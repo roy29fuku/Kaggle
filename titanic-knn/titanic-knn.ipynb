{
 "cells": [
  {
   "cell_type": "code",
   "execution_count": 21,
   "metadata": {},
   "outputs": [],
   "source": [
    "%matplotlib inline\n",
    "import numpy as np\n",
    "import pandas as pd\n",
    "import matplotlib.pyplot as plt\n",
    "from matplotlib.colors import ListedColormap\n",
    "from sklearn import neighbors\n",
    "from sklearn.cross_validation import train_test_split\n",
    "from tqdm import tqdm\n",
    "import csv\n",
    "import itertools"
   ]
  },
  {
   "cell_type": "markdown",
   "metadata": {},
   "source": [
    "# 様々な条件でテストして総合的によかったものを保存する"
   ]
  },
  {
   "cell_type": "code",
   "execution_count": 22,
   "metadata": {},
   "outputs": [],
   "source": [
    "# 標準化\n",
    "def norm(x, axis = None):\n",
    "    xmean = x.mean(axis=axis)\n",
    "    xstd = np.std(x, axis=axis)\n",
    "    z = (x - xmean)/xstd\n",
    "    return z"
   ]
  },
  {
   "cell_type": "code",
   "execution_count": 23,
   "metadata": {},
   "outputs": [],
   "source": [
    "# いろんな条件で見られるように関数化\n",
    "def test_knn(k=10, test_size=0.4, random_state=0):\n",
    "    train_data = pd.read_csv(\"data/train.csv\")\n",
    "    train_data = train_data[['Survived', 'Pclass', 'Age', 'SibSp', 'Parch', 'Fare']].dropna()\n",
    "    titanic_X = train_data[['Pclass', 'Age', 'SibSp', 'Parch', 'Fare']]\n",
    "    titanic_y = train_data['Survived']\n",
    "    train_X, test_X, train_y, test_y = train_test_split(titanic_X, titanic_y, test_size = test_size, random_state=random_state) \n",
    "\n",
    "    # 標準化\n",
    "    train_X = norm(train_X)\n",
    "    test_X = norm(test_X)\n",
    "    \n",
    "    # ベストな条件を見つける\n",
    "    best_score = 0\n",
    "    best_clf = None\n",
    "    best_cond = []\n",
    "    \n",
    "    weights = ['uniform', 'distance'] \n",
    "    ks = range(1, k+1)\n",
    "    for w, k in tqdm(itertools.product(weights, ks)):\n",
    "        clf = neighbors.KNeighborsClassifier(k, weights=w)\n",
    "        clf.fit(train_X, train_y)\n",
    "        score = clf.score(test_X, test_y)*100\n",
    "        \n",
    "        # ベストを超えたら更新\n",
    "        if score < best_score:\n",
    "            continue\n",
    "        best_score = score\n",
    "        best_clf = clf\n",
    "        \n",
    "    return best_score, best_clf"
   ]
  },
  {
   "cell_type": "code",
   "execution_count": 24,
   "metadata": {},
   "outputs": [
    {
     "name": "stderr",
     "output_type": "stream",
     "text": [
      "20it [00:00, 474.15it/s]\n"
     ]
    }
   ],
   "source": [
    "# テスト用データを使って予測\n",
    "score, clf = test_knn()\n",
    "test_data = pd.read_csv(\"data/test.csv\")\n",
    "test_data['Pclass'].fillna(test_data['Pclass'].median(), inplace=True)\n",
    "test_data['Age'].fillna(test_data['Age'].median(), inplace=True)\n",
    "test_data['SibSp'].fillna(test_data['SibSp'].median(), inplace=True)\n",
    "test_data['Parch'].fillna(test_data['Parch'].median(), inplace=True)\n",
    "test_data['Fare'].fillna(test_data['Fare'].median(), inplace=True)\n",
    "test_X = norm(test_data[['Pclass', 'Age', 'SibSp', 'Parch', 'Fare']], axis=0)\n",
    "x1 = test_X['Pclass']\n",
    "x2 = test_X['Age']\n",
    "x3 = test_X['SibSp']\n",
    "x4 = test_X['Parch']\n",
    "x5 = test_X['Fare']\n",
    "\n",
    "Z = clf.predict(np.c_[x1, x2, x3, x4, x5])\n",
    "\n",
    "with open('result/knn.csv', 'w') as f:\n",
    "    wr = csv.writer(f)\n",
    "    wr.writerow(['PassengerId','Survived'])\n",
    "    for id, s in zip(test_data['PassengerId'], Z):\n",
    "         wr.writerow([id, s])\n"
   ]
  },
  {
   "cell_type": "code",
   "execution_count": null,
   "metadata": {},
   "outputs": [],
   "source": []
  },
  {
   "cell_type": "code",
   "execution_count": null,
   "metadata": {},
   "outputs": [],
   "source": []
  }
 ],
 "metadata": {
  "kernelspec": {
   "display_name": "Python 3",
   "language": "python",
   "name": "python3"
  },
  "language_info": {
   "codemirror_mode": {
    "name": "ipython",
    "version": 3
   },
   "file_extension": ".py",
   "mimetype": "text/x-python",
   "name": "python",
   "nbconvert_exporter": "python",
   "pygments_lexer": "ipython3",
   "version": "3.6.3"
  }
 },
 "nbformat": 4,
 "nbformat_minor": 2
}
